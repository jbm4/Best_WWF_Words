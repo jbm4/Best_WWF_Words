{
 "cells": [
  {
   "cell_type": "markdown",
   "metadata": {},
   "source": [
    "Want to predict the opponent's choice, given yours, and maximize your own choice's score given theirs\n",
    "\n",
    "Can look only at the new/relevant parts of the board and calculate their choices there. Then look to see if their score is higher there than in the areas of the board that don't change.\n",
    "\n",
    "Other option: do all the calculations for certain situations (letter next to a TW/TL etc) and calculate their effect on the \"present value\" of a play, then subtract from your score and compare."
   ]
  },
  {
   "cell_type": "code",
   "execution_count": null,
   "metadata": {},
   "outputs": [],
   "source": []
  }
 ],
 "metadata": {
  "kernelspec": {
   "display_name": "Python 3",
   "language": "python",
   "name": "python3"
  },
  "language_info": {
   "codemirror_mode": {
    "name": "ipython",
    "version": 3
   },
   "file_extension": ".py",
   "mimetype": "text/x-python",
   "name": "python",
   "nbconvert_exporter": "python",
   "pygments_lexer": "ipython3",
   "version": "3.7.6"
  }
 },
 "nbformat": 4,
 "nbformat_minor": 4
}
